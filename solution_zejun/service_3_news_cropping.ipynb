{
 "cells": [
  {
   "cell_type": "code",
   "execution_count": 1,
   "id": "8ce8cdf3",
   "metadata": {},
   "outputs": [],
   "source": [
    "import streamlit as st\n",
    "import time\n",
    "from datetime import datetime as dt\n",
    "from typing import Dict, List, Optional\n",
    "import redis\n",
    "import json\n",
    "import uuid\n",
    "import sys\n",
    "from tinydb import TinyDB, Query\n",
    "from datetime import datetime as dt, timedelta\n",
    "import os\n",
    "from typing import List, Tuple, Optional, Dict, Any\n",
    "import importlib\n",
    "import uuid"
   ]
  },
  {
   "cell_type": "code",
   "execution_count": 2,
   "id": "2c0e1e64",
   "metadata": {},
   "outputs": [],
   "source": [
    "root_path = \"/Users/zejunzheng/Documents/GenAI/stock_searcher\"  # Absolute path\n",
    "sys.path.append(root_path)"
   ]
  },
  {
   "cell_type": "code",
   "execution_count": 3,
   "id": "7b7a432c",
   "metadata": {},
   "outputs": [],
   "source": [
    "import redis_q.redisUtils as rq # import RQJobQ\n",
    "import dbutils.db_classes as dbs\n",
    "import webUtils.newsUtils as news_cls\n",
    "import config.conf as configure\n",
    "import LLMUtils.llmTools as llm_tools"
   ]
  },
  {
   "cell_type": "code",
   "execution_count": 4,
   "id": "f883c80c",
   "metadata": {},
   "outputs": [],
   "source": [
    "insighter = llm_tools.NewsInsights(configure.paths['news_db'], \n",
    "                                   configure.paths[\"frag_db\"],\n",
    "                                   configure.paths['crop_prompt'], \n",
    "                                   configure.paths['env_path'])"
   ]
  },
  {
   "cell_type": "code",
   "execution_count": 5,
   "id": "ef822c21",
   "metadata": {},
   "outputs": [],
   "source": [
    "job_queue = rq.RQJobQ()"
   ]
  },
  {
   "cell_type": "code",
   "execution_count": 1,
   "id": "2a18e265",
   "metadata": {},
   "outputs": [],
   "source": [
    "while True:\n",
    "    try:\n",
    "        job_id, urls, ticker, org = job_queue.get_crop_job()\n",
    "        \n",
    "        if job_id:\n",
    "            print(f\"Processing job {job_id} - {ticker} -- {org} -- {len(urls)}\")\n",
    "            status = insighter.process_job(job_id, org, ticker, urls)\n",
    "            print(f\"Completed job {job_id} - {status}\")\n",
    "            \n",
    "    except redis.exceptions.TimeoutError:\n",
    "        continue\n",
    "    except Exception as e:\n",
    "        print(f\"Error processing job: {e}\")\n",
    "        time.sleep(1) "
   ]
  },
  {
   "cell_type": "code",
   "execution_count": 7,
   "id": "f5ef35fa",
   "metadata": {},
   "outputs": [
    {
     "name": "stdout",
     "output_type": "stream",
     "text": [
      "sumary jobs:  0\n"
     ]
    }
   ],
   "source": [
    "print(\"sumary jobs: \", job_queue.RQ.llen(job_queue.crop_queue_name))"
   ]
  },
  {
   "cell_type": "code",
   "execution_count": null,
   "id": "7ec5f13c",
   "metadata": {},
   "outputs": [],
   "source": []
  }
 ],
 "metadata": {
  "kernelspec": {
   "display_name": "Python (langChain)",
   "language": "python",
   "name": "langchain"
  },
  "language_info": {
   "codemirror_mode": {
    "name": "ipython",
    "version": 3
   },
   "file_extension": ".py",
   "mimetype": "text/x-python",
   "name": "python",
   "nbconvert_exporter": "python",
   "pygments_lexer": "ipython3",
   "version": "3.10.9"
  }
 },
 "nbformat": 4,
 "nbformat_minor": 5
}
